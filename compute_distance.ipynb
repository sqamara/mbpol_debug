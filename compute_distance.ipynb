{
 "cells": [
  {
   "cell_type": "code",
   "execution_count": 21,
   "metadata": {
    "collapsed": false
   },
   "outputs": [],
   "source": [
    "forcefield_type = 'mbpol'\n",
    "xml_file = ''\n",
    "#xml_file can be left blank"
   ]
  },
  {
   "cell_type": "code",
   "execution_count": 22,
   "metadata": {
    "collapsed": false,
    "scrolled": true
   },
   "outputs": [
    {
     "name": "stdout",
     "output_type": "stream",
     "text": [
      "Running with water3.pdb /home/sebastian/anaconda3/lib/python3.4/site-packages/mbpol-1.0-py3.4-linux-x86_64.egg/mbpol.xml\n",
      "bond constrained between atom 1 and atom 0\n",
      "bond constrained between atom 2 and atom 0\n",
      "bond constrained between atom 5 and atom 4\n",
      "bond constrained between atom 6 and atom 4\n",
      "bond constrained between atom 9 and atom 8\n",
      "bond constrained between atom 10 and atom 8\n",
      "Writing to mbpol_trajectory.pdb\n",
      "Running Production...\n",
      "Done!\n"
     ]
    }
   ],
   "source": [
    "!python test.py $forcefield_type True $xml_file"
   ]
  },
  {
   "cell_type": "code",
   "execution_count": 23,
   "metadata": {
    "collapsed": false
   },
   "outputs": [
    {
     "name": "stdout",
     "output_type": "stream",
     "text": [
      "Running with water3.pdb /home/sebastian/anaconda3/lib/python3.4/site-packages/mbpol-1.0-py3.4-linux-x86_64.egg/mbpol.xml\n",
      "Writing to flexible_mbpol_trajectory.pdb\n",
      "Running Production...\n",
      "Done!\n"
     ]
    }
   ],
   "source": [
    "!python test.py $forcefield_type False $xml_file"
   ]
  },
  {
   "cell_type": "code",
   "execution_count": 24,
   "metadata": {
    "collapsed": false
   },
   "outputs": [
    {
     "name": "stdout",
     "output_type": "stream",
     "text": [
      "  1502  14908 102151 mbpol_trajectory.pdb\n",
      "  1502  14908 102151 flexible_mbpol_trajectory.pdb\n"
     ]
    }
   ],
   "source": [
    "!wc mbpol_trajectory.pdb\n",
    "!wc flexible_mbpol_trajectory.pdb"
   ]
  },
  {
   "cell_type": "code",
   "execution_count": 25,
   "metadata": {
    "collapsed": true
   },
   "outputs": [],
   "source": [
    "import mdtraj"
   ]
  },
  {
   "cell_type": "code",
   "execution_count": 26,
   "metadata": {
    "collapsed": false
   },
   "outputs": [],
   "source": [
    "trajectories = mdtraj.load(forcefield_type + '_trajectory.pdb')\n",
    "flexible_trajectories = mdtraj.load('flexible_' + forcefield_type +'_trajectory.pdb')\n",
    "#print (trajectories)"
   ]
  },
  {
   "cell_type": "code",
   "execution_count": 27,
   "metadata": {
    "collapsed": false
   },
   "outputs": [],
   "source": [
    "distances = mdtraj.compute_distances(trajectories, [[0,1],[0,2]])\n",
    "flexible_distaces = mdtraj.compute_distances(flexible_trajectories, [[0,1],[0,2]])\n",
    "#print (distances)"
   ]
  },
  {
   "cell_type": "code",
   "execution_count": 28,
   "metadata": {
    "collapsed": true
   },
   "outputs": [],
   "source": [
    "import matplotlib.pyplot as plt\n",
    "%matplotlib inline\n",
    "\n",
    "#type(distances)"
   ]
  },
  {
   "cell_type": "code",
   "execution_count": 29,
   "metadata": {
    "collapsed": true
   },
   "outputs": [],
   "source": [
    "import seaborn as sns\n",
    "sns.set_style('dark')"
   ]
  },
  {
   "cell_type": "code",
   "execution_count": 30,
   "metadata": {
    "collapsed": false
   },
   "outputs": [
    {
     "data": {
      "image/png": "[encoded data removed]",
      "text/plain": [
       "<matplotlib.figure.Figure at 0x7f83adc90da0>"
      ]
     },
     "metadata": {},
     "output_type": "display_data"
    }
   ],
   "source": [
    "plt.plot(distances[:,0], label='OH1')\n",
    "plt.plot(distances[:,1], label='0H2')\n",
    "plt.plot(flexible_distaces[:,0], label='OH1_flex')\n",
    "plt.plot(flexible_distaces[:,1], label='OH2_flex')\n",
    "plt.legend(loc='best')\n",
    "plt.show()"
   ]
  },
  {
   "cell_type": "code",
   "execution_count": null,
   "metadata": {
    "collapsed": true
   },
   "outputs": [],
   "source": []
  },
  {
   "cell_type": "code",
   "execution_count": null,
   "metadata": {
    "collapsed": true
   },
   "outputs": [],
   "source": []
  },
  {
   "cell_type": "code",
   "execution_count": null,
   "metadata": {
    "collapsed": true
   },
   "outputs": [],
   "source": []
  },
  {
   "cell_type": "code",
   "execution_count": null,
   "metadata": {
    "collapsed": true
   },
   "outputs": [],
   "source": []
  }
 ],
 "metadata": {
  "kernelspec": {
   "display_name": "Python 3",
   "language": "python",
   "name": "python3"
  },
  "language_info": {
   "codemirror_mode": {
    "name": "ipython",
    "version": 3
   },
   "file_extension": ".py",
   "mimetype": "text/x-python",
   "name": "python",
   "nbconvert_exporter": "python",
   "pygments_lexer": "ipython3",
   "version": "3.4.3"
  }
 },
 "nbformat": 4,
 "nbformat_minor": 0
}
